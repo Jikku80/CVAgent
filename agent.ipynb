{
 "cells": [
  {
   "cell_type": "code",
   "execution_count": 29,
   "id": "4a29e11c-ca54-4874-9dc2-b3dddef9ea9e",
   "metadata": {},
   "outputs": [],
   "source": [
    "import os\n",
    "import requests\n",
    "from IPython.display import Markdown, display, update_display"
   ]
  },
  {
   "cell_type": "code",
   "execution_count": 1,
   "id": "c9cd41a1-3401-4e45-b04a-5be1c370255f",
   "metadata": {
    "collapsed": true,
    "jupyter": {
     "outputs_hidden": true
    }
   },
   "outputs": [
    {
     "name": "stdout",
     "output_type": "stream",
     "text": [
      "Collecting PyPDF2\n",
      "  Downloading pypdf2-3.0.1-py3-none-any.whl.metadata (6.8 kB)\n",
      "Downloading pypdf2-3.0.1-py3-none-any.whl (232 kB)\n",
      "Installing collected packages: PyPDF2\n",
      "Successfully installed PyPDF2-3.0.1\n"
     ]
    }
   ],
   "source": [
    "!pip install PyPDF2"
   ]
  },
  {
   "cell_type": "code",
   "execution_count": 3,
   "id": "1786eb10-61a1-4e46-a18c-a1aa6db6f646",
   "metadata": {},
   "outputs": [],
   "source": [
    "import PyPDF2"
   ]
  },
  {
   "cell_type": "code",
   "execution_count": 31,
   "id": "5bb245fa-51df-4df5-9536-d3f72c2d2a18",
   "metadata": {},
   "outputs": [],
   "source": [
    "MODEL = \"deepseek-r1:1.5b\""
   ]
  },
  {
   "cell_type": "code",
   "execution_count": 33,
   "id": "b0575782-8f17-4631-b257-a121a63d2eea",
   "metadata": {
    "collapsed": true,
    "jupyter": {
     "outputs_hidden": true
    }
   },
   "outputs": [
    {
     "name": "stderr",
     "output_type": "stream",
     "text": [
      "\u001b[?25lpulling manifest â ‹ \u001b[?25h\u001b[?25l\u001b[2K\u001b[1Gpulling manifest â ™ \u001b[?25h\u001b[?25l\u001b[2K\u001b[1Gpulling manifest â ¸ \u001b[?25h\u001b[?25l\u001b[2K\u001b[1Gpulling manifest â ¸ \u001b[?25h\u001b[?25l\u001b[2K\u001b[1Gpulling manifest â ¼ \u001b[?25h\u001b[?25l\u001b[2K\u001b[1Gpulling manifest â ´ \u001b[?25h\u001b[?25l\u001b[2K\u001b[1Gpulling manifest â ¦ \u001b[?25h\u001b[?25l\u001b[2K\u001b[1Gpulling manifest â § \u001b[?25h\u001b[?25l\u001b[2K\u001b[1Gpulling manifest â ‡ \u001b[?25h\u001b[?25l\u001b[2K\u001b[1Gpulling manifest â � \u001b[?25h\u001b[?25l\u001b[2K\u001b[1Gpulling manifest â ‹ \u001b[?25h\u001b[?25l\u001b[2K\u001b[1Gpulling manifest â ™ \u001b[?25h\u001b[?25l\u001b[2K\u001b[1Gpulling manifest \n",
      "pulling aabd4debf0c8... 100% â–•â–ˆâ–ˆâ–ˆâ–ˆâ–ˆâ–ˆâ–ˆâ–ˆâ–ˆâ–ˆâ–ˆâ–ˆâ–ˆâ–ˆâ–ˆâ–ˆâ–� 1.1 GB                         \n",
      "pulling 369ca498f347... 100% â–•â–ˆâ–ˆâ–ˆâ–ˆâ–ˆâ–ˆâ–ˆâ–ˆâ–ˆâ–ˆâ–ˆâ–ˆâ–ˆâ–ˆâ–ˆâ–ˆâ–�  387 B                         \n",
      "pulling 6e4c38e1172f... 100% â–•â–ˆâ–ˆâ–ˆâ–ˆâ–ˆâ–ˆâ–ˆâ–ˆâ–ˆâ–ˆâ–ˆâ–ˆâ–ˆâ–ˆâ–ˆâ–ˆâ–� 1.1 KB                         \n",
      "pulling f4d24e9138dd... 100% â–•â–ˆâ–ˆâ–ˆâ–ˆâ–ˆâ–ˆâ–ˆâ–ˆâ–ˆâ–ˆâ–ˆâ–ˆâ–ˆâ–ˆâ–ˆâ–ˆâ–�  148 B                         \n",
      "pulling a85fe2a2e58e... 100% â–•â–ˆâ–ˆâ–ˆâ–ˆâ–ˆâ–ˆâ–ˆâ–ˆâ–ˆâ–ˆâ–ˆâ–ˆâ–ˆâ–ˆâ–ˆâ–ˆâ–�  487 B                         \n",
      "verifying sha256 digest \n",
      "writing manifest \n",
      "success \u001b[?25h\n"
     ]
    }
   ],
   "source": [
    "!ollama pull deepseek-r1:1.5b"
   ]
  },
  {
   "cell_type": "code",
   "execution_count": 9,
   "id": "c09eb824-cd22-40e9-90a6-caedd1d84378",
   "metadata": {
    "collapsed": true,
    "jupyter": {
     "outputs_hidden": true
    }
   },
   "outputs": [
    {
     "name": "stdout",
     "output_type": "stream",
     "text": [
      "Requirement already satisfied: ollama in c:\\users\\dell\\anaconda3\\lib\\site-packages (0.4.7)\n",
      "Requirement already satisfied: httpx<0.29,>=0.27 in c:\\users\\dell\\anaconda3\\lib\\site-packages (from ollama) (0.27.0)\n",
      "Requirement already satisfied: pydantic<3.0.0,>=2.9.0 in c:\\users\\dell\\anaconda3\\lib\\site-packages (from ollama) (2.10.6)\n",
      "Requirement already satisfied: anyio in c:\\users\\dell\\anaconda3\\lib\\site-packages (from httpx<0.29,>=0.27->ollama) (4.2.0)\n",
      "Requirement already satisfied: certifi in c:\\users\\dell\\anaconda3\\lib\\site-packages (from httpx<0.29,>=0.27->ollama) (2024.12.14)\n",
      "Requirement already satisfied: httpcore==1.* in c:\\users\\dell\\anaconda3\\lib\\site-packages (from httpx<0.29,>=0.27->ollama) (1.0.2)\n",
      "Requirement already satisfied: idna in c:\\users\\dell\\anaconda3\\lib\\site-packages (from httpx<0.29,>=0.27->ollama) (3.7)\n",
      "Requirement already satisfied: sniffio in c:\\users\\dell\\anaconda3\\lib\\site-packages (from httpx<0.29,>=0.27->ollama) (1.3.0)\n",
      "Requirement already satisfied: h11<0.15,>=0.13 in c:\\users\\dell\\anaconda3\\lib\\site-packages (from httpcore==1.*->httpx<0.29,>=0.27->ollama) (0.14.0)\n",
      "Requirement already satisfied: annotated-types>=0.6.0 in c:\\users\\dell\\anaconda3\\lib\\site-packages (from pydantic<3.0.0,>=2.9.0->ollama) (0.6.0)\n",
      "Requirement already satisfied: pydantic-core==2.27.2 in c:\\users\\dell\\anaconda3\\lib\\site-packages (from pydantic<3.0.0,>=2.9.0->ollama) (2.27.2)\n",
      "Requirement already satisfied: typing-extensions>=4.12.2 in c:\\users\\dell\\anaconda3\\lib\\site-packages (from pydantic<3.0.0,>=2.9.0->ollama) (4.12.2)\n"
     ]
    }
   ],
   "source": [
    "!pip install ollama"
   ]
  },
  {
   "cell_type": "code",
   "execution_count": 195,
   "id": "608b09f3-dc86-40b3-9de0-70698dab7d33",
   "metadata": {},
   "outputs": [],
   "source": [
    "fileList = [\"jsncv.pdf\", \"cvjeshan.pdf\"]"
   ]
  },
  {
   "cell_type": "code",
   "execution_count": 417,
   "id": "29aa143f-abfe-4612-8c84-41eac7c1ce9f",
   "metadata": {},
   "outputs": [],
   "source": [
    "class BioData:\n",
    "    def __init__(self, file, text=\"\"):\n",
    "        self.file = file\n",
    "        self.text = text\n",
    "        with open(file, \"rb\") as pdf_file:\n",
    "            reader = PyPDF2.PdfReader(pdf_file)\n",
    "            num_pages = len(reader.pages)\n",
    "            \n",
    "            for page_num in range(num_pages):\n",
    "                page = reader.pages[page_num]\n",
    "                self.text += page.extract_text()\n",
    "\n",
    "    def get_contents(self):\n",
    "        return f\"PDF Title:\\n{self.file}\\nPDF Contents:\\n{self.text}\\n\\n\""
   ]
  },
  {
   "cell_type": "code",
   "execution_count": 430,
   "id": "d7ee2ec8-d448-4d63-a846-9a6c98f49ffd",
   "metadata": {},
   "outputs": [],
   "source": [
    "system_prompt = \"You are a structured data extractor. Your task is to summarize CV/resume content by strictly extracting the following details without explanations, opinions, or additional text: \\\n",
    "    Experience: List job titles, company names, and employment dates only (no descriptions) if you find it. \\\n",
    "    projects/works: List all the projects/work titles if you find it. \\\n",
    "    Skills: List technical/professional skills as bullet points if you find it. \\\n",
    "    Contact Info: Include phone number and email address if you can find it. \\\n",
    "    Use bold headers (Experience, Projects/Works, Skills, Contact, Certification). \\\n",
    "    Do not add explanations, descriptions, or additional details. Keep all sections strictly factual and brief in english language.\"\n",
    "\n",
    "system_prompt += \"Respond in markdown with Example format:\"\n",
    "system_prompt += \" \\\n",
    "    Experience \\\n",
    "    [Job Title], [Company], [Dates] \\\n",
    "    [Job Title], [Company], [Dates] \\\n",
    "    [Job Title], [Company], [Dates] \\\n",
    "    Skills \\\n",
    "    [Skill 1] \\\n",
    "    [Skill 2] \\\n",
    "    Contact \\\n",
    "    Phone: [Number] \\\n",
    "    Email: [Email] \\\n",
    "    Certification: \\\n",
    "    [Certificate 1] \\\n",
    "    [Certificate 2] \\\n",
    "    Ensure no paragraphs, opinions, or extra text. \""
   ]
  },
  {
   "cell_type": "code",
   "execution_count": 432,
   "id": "ab81eaf5-f737-4ca9-bfd1-d9d2c14d1289",
   "metadata": {},
   "outputs": [],
   "source": [
    "def user_prompt(biodata):\n",
    "    user_prompt = f\"You are looking at a cv titled {biodata.file}\"\n",
    "    user_prompt += \"Summarize the provided CV in the following format without descriptions, explanations, or additional text:\"\n",
    "    user_prompt += \"Example output: \\\n",
    "    Experience \\\n",
    "        [Job Title], [Company Name], [Employment Dates] \\\n",
    "    Project/Works \\\n",
    "        [Title], [Description] \\\n",
    "    Skills \\\n",
    "        [Skill 1] \\\n",
    "        [Skill 2] \\\n",
    "    Contact \\\n",
    "        Phone: [Number] \\\n",
    "        Email: [Email] \\\n",
    "    Certification: \\\n",
    "        [Certificate 1] \\\n",
    "        [Certificate 2] \\\n",
    "    Strictly adhere to the format in english language.\"\n",
    "    user_prompt += \"Respond in Markdown.\"\n",
    "    user_prompt += biodata.text\n",
    "    return user_prompt"
   ]
  },
  {
   "cell_type": "code",
   "execution_count": 329,
   "id": "79553606-bc8b-4c18-bcd4-526b6856dbad",
   "metadata": {},
   "outputs": [],
   "source": [
    "import ollama\n",
    "\n",
    "def summarize(file):\n",
    "    biodata = BioData(file)\n",
    "    messages=[\n",
    "                {\"role\": \"system\", \"content\": system_prompt},\n",
    "                {\"role\": \"user\", \"content\": user_prompt(biodata)}\n",
    "    ]\n",
    "    response = ollama.chat(model=MODEL, messages=messages, stream=False)\n",
    "    result = f\"{fileList.index(biodata.file) + 1}) {biodata.file} Details: \\n\\n\" + f\"\\n\\n{response['message']['content']}\"\n",
    "    return result"
   ]
  },
  {
   "cell_type": "code",
   "execution_count": 331,
   "id": "d27bb133-8ee3-4e63-9f12-5ef0e91261d7",
   "metadata": {},
   "outputs": [],
   "source": [
    "def display_summary(file):\n",
    "    summary = summarize(file)\n",
    "    display(Markdown(summary))"
   ]
  },
  {
   "cell_type": "code",
   "execution_count": 469,
   "id": "374bf662-958b-4f78-9433-6aa0d28575ee",
   "metadata": {},
   "outputs": [
    {
     "data": {
      "text/markdown": [
       "1) jsncv.pdf Details: \n",
       "\n",
       "\n",
       "\n",
       "<think>\n",
       "Okay, I'm trying to figure out how to summarize the user's CV without adding any extra info or explanations. They gave a detailed example of what they want, so I need to make sure I follow that exactly.\n",
       "\n",
       "First, I see they have an Experience section where they list job titles, company names, dates, and projects. But in their example, there are no descriptions for the experience part because it's more about details than explanations. So I should just list all the jobs with their details without adding anything extra.\n",
       "\n",
       "Next is Projects/Works section, which lists project titles, technologies used, link, etc., but again without any additional text. In the example, each project has a description in bold. Wait, no, in the user's response they didn't bold those because they just listed them. So maybe I should format each project with its details properly.\n",
       "\n",
       "Then there's Skills section, which lists technical skills as bullet points. The example shows them as separate items. For each skill, like JavaScript, HTML, CSS, etc., it should be a list item in bold. I need to ensure that each skill is listed without any extra explanations or text.\n",
       "\n",
       "Contact Info is about phone number and email. Again, just include those details, no additional info.\n",
       "\n",
       "Lastly, Certifications section lists courses with dates. In the example, they were all marked as completed. So each certification should be a bullet point under the 'Certifications' header.\n",
       "\n",
       "I also need to make sure everything is in bold headers like Experience, Projects/Works, Skills, Contact, and Certification. The example uses markdown for bold, so I'll format each section accordingly.\n",
       "\n",
       "Looking back at the user's input, they provided specific sections with some sample data. For instance, their objective, education details, projects, etc. I should follow the same structure but without adding any extra text beyond extracting what's listed.\n",
       "\n",
       "I might run into issues if a project or skill isn't detailed enough, but in this case, everything seems clear and detailed enough to extract without ambiguity.\n",
       "\n",
       "So, structuring my answer: Start with Experience section listing all jobs, company names, dates. Then Projects/Works with each project's details. Skills as bullet points for each tech skill. Contact info and certification under their respective headers.\n",
       "\n",
       "I should double-check that I'm not missing any sections or adding extra text. Also, ensure that the formatting is correct with bold headings and proper bullets without any additional explanations.\n",
       "</think>\n",
       "\n",
       "```markdown\n",
       "Experience  \n",
       "[Job Title], [Company Name], [Dates]  \n",
       "[Job Title], [Company Name], [Dates]  \n",
       "[Job Title], [Company Name], [Dates]  \n",
       "\n",
       "Projects/Works  \n",
       "1. Portfolio Design  \n",
       "Description: Portfolio Design webpage.  \n",
       "Technologies: HTML, CSS, JS  \n",
       "Link: https://distracted-wilson-a8d227.netlify.app  \n",
       "2. Spam Detection  \n",
       "Description: Detects weather the given message is a spam or not  \n",
       "Technologies: Python, Jypter Notebook, gensim  \n",
       "Link: https://github.com/Jikku80/SpamDetection.git  \n",
       "3. Sleep Analysis  \n",
       "Description: Detects weather the entity was asleep during certain time period with circumstances  \n",
       "Technologies: Python, Jypter Notebook, Matplotlib, Numpy, Pandas  \n",
       "Link: https://github.com/Jikku80/SleepAnalysis.git  \n",
       "\n",
       "Skills  \n",
       "JavaScript, HTML, CSS, Python, Node.js, Express.js, Git, GitHub, Postman, Azure, Naïve Bayes  \n",
       "\n",
       "Contact  \n",
       "Phone: 9860269554  \n",
       "Email: jeshan.marz@gmail.com  \n",
       "\n",
       "Certifications  \n",
       "HTML CSS Fundamental Course – Sololearn, 2019  \n",
       "JavaScript – Sololearn, 2018"
      ],
      "text/plain": [
       "<IPython.core.display.Markdown object>"
      ]
     },
     "metadata": {},
     "output_type": "display_data"
    },
    {
     "data": {
      "text/markdown": [
       "2) cvjeshan.pdf Details: \n",
       "\n",
       "\n",
       "\n",
       "<think>\n",
       "Okay, so I need to help someone summarize their CV into a specific format. Let me see what they provided.\n",
       "\n",
       "First, looking at the example response, it's clear that each section has bullet points without any explanations or additional text. They used bold headers for Experience, Projects/Works, Skills, Contact, and Certification. No paragraphs, just facts in English.\n",
       "\n",
       "The user gave a CV titled cvjeshan.pdf, which seems to have sections like Work experience with different roles and companies, academic qualifications, other skills, and contact info. I need to extract each part without any extra information or descriptions.\n",
       "\n",
       "Starting with Experience: I'll look for job titles, company names, dates, etc., and list them under bold headers. Then Projects/Works: projects or works listed similarly. Skills as bullet points. Contact info, phone number and email. Certifications.\n",
       "\n",
       "I should make sure not to include any extra text or explanations—just the facts in a strict format. Also, keep it factual and brief in English.\n",
       "\n",
       "Let me go through each section of the CV:\n",
       "\n",
       "Work Experience:\n",
       "- Kolotibablo – Online 2017 – 2018: Captcha Solving\n",
       "- V- infotech – Stenographer - Hattiban, Lalitpur – 2018 – 2019: Part time\n",
       "\n",
       "I'll list the job title, company name, dates, and description.\n",
       "\n",
       "Projects/Works:\n",
       "- Captcha Solving\n",
       "- Part time\n",
       "\n",
       "Wait, but in their example response, they included 'Part time' as a separate point. I think that's acceptable unless it's a combined role with other responsibilities like projects.\n",
       "\n",
       "Skills:\n",
       "Object Oriented programming concept, design and thinking; HTML, CSS, JavaScript; C#, Node.js.\n",
       "\n",
       "These are bullet points without descriptions.\n",
       "\n",
       "Contact Info: Phone number and email provided.\n",
       "\n",
       "Certifications:\n",
       "\n",
       "Jeshan Maharjan\n",
       "23/09/1998\n",
       "Programming Skills: Object Oriented programming, design and thinking; HTML, CSS, JavaScript; C#, Node.js.\n",
       "\n",
       "I'll list each certification as separate bullet points.\n",
       "\n",
       "Now I need to make sure all these sections are in bold headers as specified. Also, the language should be English without any extra text or explanations.\n",
       "\n",
       "Let me structure it step by step:\n",
       "\n",
       "1. Experience:\n",
       "   - Job Title 1: Company Name 1, Dates 1\n",
       "   - Job Title 2: Company Name 2, Dates 2\n",
       "\n",
       "2. Projects/Works:\n",
       "   - Description 1\n",
       "   - Description 2 (if applicable)\n",
       "\n",
       "3. Skills:\n",
       "   - Skill 1\n",
       "   - Skill 2\n",
       "   - ... (as needed)\n",
       "\n",
       "4. Contact Info:\n",
       "   - Phone: Number\n",
       "   - Email: [Email]\n",
       "\n",
       "5. Certification:\n",
       "   - Cert 1\n",
       "   - Cert 2\n",
       "\n",
       "I should make sure each section is clearly separated and uses bold headers, as the example shows.\n",
       "\n",
       "Finally, ensure that I'm only using facts from the CV, without any extra explanations or text.\n",
       "</think>\n",
       "\n",
       "**Experience**\n",
       "\n",
       "- Job Title 1: Company Name 1, Dates 1  \n",
       "- Job Title 2: Company Name 2, Dates 2  \n",
       "\n",
       "**Projects/Works**\n",
       "\n",
       "- Description 1  \n",
       "- Description 2 (if applicable)  \n",
       "\n",
       "**Skills**\n",
       "\n",
       "- Skill 1  \n",
       "- Skill 2  \n",
       "- ...  \n",
       "\n",
       "**Contact**\n",
       "\n",
       "- Phone: [Number]  \n",
       "- Email: [Email]  \n",
       "\n",
       "**Certification**\n",
       "\n",
       "- Cert 1  \n",
       "- Cert 2"
      ],
      "text/plain": [
       "<IPython.core.display.Markdown object>"
      ]
     },
     "metadata": {},
     "output_type": "display_data"
    }
   ],
   "source": [
    "for cv in fileList:\n",
    "    display_summary(cv)"
   ]
  },
  {
   "cell_type": "code",
   "execution_count": 461,
   "id": "6cdd498c-422f-4b2b-a728-6fd65762ff5f",
   "metadata": {},
   "outputs": [],
   "source": [
    "system_content = \"Act as an evaluator of a tech company which is looking for a js developer your job is to systematically compare the previously provided CVs and determine the best candidate. Follow these steps: \\\n",
    "Comparison Criteria: \\\n",
    "Relevance and depth of experience to the target role/job description. \\\n",
    "Alignment of skills with required qualifications. \\\n",
    "Educational background and certifications (if provided). \\\n",
    "Years of experience in relevant fields. \\\n",
    "Technical/niche expertise (e.g., javascript, mongodb, reactjs). \\\n",
    "Ranking Method: \\\n",
    "Score each CV on a scale of 1–5 for each criterion above. \\\n",
    "Highlight standout strengths or weaknesses (e.g., 'CV A has 8 years of leadership experience but lacks Python skills'). \\\n",
    "Final Evaluation: \\\n",
    "Declare the top candidate with a brief justification. \\\n",
    "Summarize why this CV outperforms others (e.g., 'Best fit due to advanced certifications, 10+ years in fintech, and direct skill overlap'). \\\n",
    "Format strictly as: \\\n",
    "Best Candidate: [file name] \\\n",
    "Reason: [Reason]. \\\n",
    "Scores: [Scores]. \\\n",
    "Do not include subjective opinions, markdown, or lengthy analysis. Prioritize objectivity and brevity.\"\n",
    "\n",
    "system_content += \"Example Output: \\\n",
    "Best Candidate:  \\\n",
    "Reason:  \\\n",
    "Scores: \\\n",
    "CV A: Experience (0), Skills (0), Education (0)\\\n",
    "CV B: Experience (0), Skills (0), Education (0)\"\n"
   ]
  },
  {
   "cell_type": "code",
   "execution_count": 463,
   "id": "527c79e5-d619-43d0-959b-a745c86e5b2a",
   "metadata": {},
   "outputs": [],
   "source": [
    "user_content = \"Compare the previously provided CVs and identify the best candidate based on the following criteria: \\\n",
    "Experience: Relevance to the target role, years in field, job titles if you find it. \\\n",
    "Skills: Alignment with required qualifications (technical/professional). \\\n",
    "Education/Certifications: If applicable. \\\n",
    "Technical/Niche Expertise: javascript, mongodb, node.js, or industry knowledge. \\\n",
    "Rank each CV numerically (1–5) per criterion and select the top candidate. \\\n",
    "Format your response as: \\\n",
    "Best Candidate: [File Name] \\\n",
    "Reason: [Reason]. \\\n",
    "Scores: [Score] \\\n",
    "Do not include analysis, explanations, or markdown. Keep scores and reasoning concise.\"\n",
    "user_content += \"Example Output: \\\n",
    "Best Candidate: CV 3 \\\n",
    "Reason: Reason \\\n",
    "Scores: CV1: Exp (0), Skills (0), Edu (0) / CV2: Exp (0), Skills (0), Edu (0) / CV3: Exp (0), Skills (0), Edu (0)\"\n"
   ]
  },
  {
   "cell_type": "code",
   "execution_count": null,
   "id": "57c4516e-60cf-4594-9bf7-046b050349ae",
   "metadata": {},
   "outputs": [],
   "source": [
    "messages=[\n",
    "                {\"role\": \"system\", \"content\": system_content},\n",
    "                {\"role\": \"user\", \"content\": user_content}\n",
    "    ]\n",
    "response = ollama.chat(model=MODEL, messages=messages, stream=False)\n",
    "print(response['message']['content'])"
   ]
  },
  {
   "cell_type": "code",
   "execution_count": null,
   "id": "0618975b-f212-4dad-a5a1-323211b794fb",
   "metadata": {},
   "outputs": [],
   "source": []
  }
 ],
 "metadata": {
  "kernelspec": {
   "display_name": "Python [conda env:base] *",
   "language": "python",
   "name": "conda-base-py"
  },
  "language_info": {
   "codemirror_mode": {
    "name": "ipython",
    "version": 3
   },
   "file_extension": ".py",
   "mimetype": "text/x-python",
   "name": "python",
   "nbconvert_exporter": "python",
   "pygments_lexer": "ipython3",
   "version": "3.12.7"
  }
 },
 "nbformat": 4,
 "nbformat_minor": 5
}
