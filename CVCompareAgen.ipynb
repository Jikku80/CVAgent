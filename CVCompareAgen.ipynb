{
 "cells": [
  {
   "cell_type": "code",
   "execution_count": 36,
   "id": "0a6e6a6b-f78a-425d-b738-463dbadde8f1",
   "metadata": {},
   "outputs": [],
   "source": [
    "import ollama\n",
    "import pdfplumber\n",
    "import PyPDF2\n",
    "import os\n",
    "import requests\n",
    "from IPython.display import Markdown, display"
   ]
  },
  {
   "cell_type": "code",
   "execution_count": 34,
   "id": "a56ee623-bcb6-4531-a90e-43425a42360d",
   "metadata": {
    "collapsed": true,
    "jupyter": {
     "outputs_hidden": true
    }
   },
   "outputs": [
    {
     "name": "stdout",
     "output_type": "stream",
     "text": [
      "Collecting pdfplumber\n",
      "  Downloading pdfplumber-0.11.5-py3-none-any.whl.metadata (42 kB)\n",
      "Collecting pdfminer.six==20231228 (from pdfplumber)\n",
      "  Downloading pdfminer.six-20231228-py3-none-any.whl.metadata (4.2 kB)\n",
      "Requirement already satisfied: Pillow>=9.1 in c:\\users\\dell\\appdata\\roaming\\python\\python312\\site-packages (from pdfplumber) (10.2.0)\n",
      "Collecting pypdfium2>=4.18.0 (from pdfplumber)\n",
      "  Downloading pypdfium2-4.30.1-py3-none-win_amd64.whl.metadata (48 kB)\n",
      "Requirement already satisfied: charset-normalizer>=2.0.0 in c:\\users\\dell\\anaconda3\\lib\\site-packages (from pdfminer.six==20231228->pdfplumber) (3.3.2)\n",
      "Requirement already satisfied: cryptography>=36.0.0 in c:\\users\\dell\\anaconda3\\lib\\site-packages (from pdfminer.six==20231228->pdfplumber) (43.0.0)\n",
      "Requirement already satisfied: cffi>=1.12 in c:\\users\\dell\\anaconda3\\lib\\site-packages (from cryptography>=36.0.0->pdfminer.six==20231228->pdfplumber) (1.17.1)\n",
      "Requirement already satisfied: pycparser in c:\\users\\dell\\anaconda3\\lib\\site-packages (from cffi>=1.12->cryptography>=36.0.0->pdfminer.six==20231228->pdfplumber) (2.21)\n",
      "Downloading pdfplumber-0.11.5-py3-none-any.whl (59 kB)\n",
      "Downloading pdfminer.six-20231228-py3-none-any.whl (5.6 MB)\n",
      "   ---------------------------------------- 0.0/5.6 MB ? eta -:--:--\n",
      "   --- ------------------------------------ 0.5/5.6 MB 4.2 MB/s eta 0:00:02\n",
      "   ----------- ---------------------------- 1.6/5.6 MB 4.7 MB/s eta 0:00:01\n",
      "   ---------------- ----------------------- 2.4/5.6 MB 4.2 MB/s eta 0:00:01\n",
      "   ------------------------ --------------- 3.4/5.6 MB 4.4 MB/s eta 0:00:01\n",
      "   ----------------------------- ---------- 4.2/5.6 MB 4.3 MB/s eta 0:00:01\n",
      "   ----------------------------------- ---- 5.0/5.6 MB 4.3 MB/s eta 0:00:01\n",
      "   ---------------------------------------- 5.6/5.6 MB 4.1 MB/s eta 0:00:00\n",
      "Downloading pypdfium2-4.30.1-py3-none-win_amd64.whl (3.0 MB)\n",
      "   ---------------------------------------- 0.0/3.0 MB ? eta -:--:--\n",
      "   ---------- ----------------------------- 0.8/3.0 MB 4.2 MB/s eta 0:00:01\n",
      "   ------------------------ --------------- 1.8/3.0 MB 4.6 MB/s eta 0:00:01\n",
      "   ----------------------------------- ---- 2.6/3.0 MB 4.6 MB/s eta 0:00:01\n",
      "   ---------------------------------------- 3.0/3.0 MB 4.3 MB/s eta 0:00:00\n",
      "Installing collected packages: pypdfium2, pdfminer.six, pdfplumber\n",
      "Successfully installed pdfminer.six-20231228 pdfplumber-0.11.5 pypdfium2-4.30.1\n"
     ]
    }
   ],
   "source": [
    "!pip install pdfplumber"
   ]
  },
  {
   "cell_type": "code",
   "execution_count": 52,
   "id": "9fe1a245-acda-4f61-8517-3c0281ec93d5",
   "metadata": {},
   "outputs": [],
   "source": [
    "MODEL = \"deepseek-r1:1.5b\"\n",
    "fileList = [\"bcv.pdf\", \"ccv.pdf\", \"dcv.pdf\", \"ecv.pdf\"]"
   ]
  },
  {
   "cell_type": "code",
   "execution_count": 124,
   "id": "f73eb306-eb59-4ee8-b8c5-1f07894e4c4a",
   "metadata": {},
   "outputs": [],
   "source": [
    "class BioData:\n",
    "    def __init__(self, file, text=\"\"):\n",
    "        self.file = file\n",
    "        self.text = text\n",
    "\n",
    "    def pdf_plumber(self):\n",
    "        with pdfplumber.open(self.file) as pdf:\n",
    "            # Loop through each page in the PDF\n",
    "            for page in pdf.pages:\n",
    "                # Extract text from each page\n",
    "                self.text += page.extract_text()\n",
    "        return f\"PDF Title:\\n{self.file}\\nPDF Contents:\\n{self.text}\\n\\n\"\n",
    "                                \n",
    "    def get_contents(self):\n",
    "        with open(self.file, \"rb\") as pdf_file:\n",
    "            reader = PyPDF2.PdfReader(pdf_file)\n",
    "            num_pages = len(reader.pages)\n",
    "            \n",
    "            for page_num in range(num_pages):\n",
    "                page = reader.pages[page_num]\n",
    "                self.text += page.extract_text()\n",
    "        return f\"PDF Title:\\n{self.file}\\nPDF Contents:\\n{self.text}\\n\\n\""
   ]
  },
  {
   "cell_type": "code",
   "execution_count": 126,
   "id": "eb4b9c2e-a305-4e4c-88d2-56eb68e19261",
   "metadata": {},
   "outputs": [],
   "source": [
    "resumeList = []\n",
    "for resume in fileList:\n",
    "    biodata = BioData(resume)\n",
    "    cv = biodata.get_contents()\n",
    "    resumeList.append(cv)"
   ]
  },
  {
   "cell_type": "code",
   "execution_count": 128,
   "id": "2d120a75-af3b-41c6-8d88-f030612aaeed",
   "metadata": {},
   "outputs": [],
   "source": [
    "system_content = f\"You are provided with a list of {len(resumeList)} CVs compare each one of them and find the best one with summary \"\n",
    "system_content += \"Respond in English Language\""
   ]
  },
  {
   "cell_type": "code",
   "execution_count": 130,
   "id": "fc33f772-9a3d-4568-a14a-1a1e61c53f74",
   "metadata": {},
   "outputs": [],
   "source": [
    "user_content = f\"Compare all of the {len(resumeList)} resume and find the best one with summary from the list : {resumeList}\"\n",
    "user_content += \"Respond in English Language\""
   ]
  },
  {
   "cell_type": "code",
   "execution_count": 132,
   "id": "4229c90b-8fae-43ea-beb5-e53d3c847312",
   "metadata": {},
   "outputs": [
    {
     "data": {
      "text/markdown": [
       "<think>\n",
       "Okay, I need to compare these four CVs—bcv.pdf, dcv.pdf, dv.pdf, and ecv.pdf—and figure out which one is the best. I'm not super experienced with CV writing, but I can try to look through each document and see what stands out.\n",
       "\n",
       "Starting with bcv.pdf. It seems like it's a professional CV because it has sections like Education, Skills, Professional Experience, About Me, and Contact Information. The skills listed are pretty detailed, even though some of them might not be in the same order as others. The education is from Connor Hamilton University, which I think is a good school, but I'm not sure if their GPA was high enough or what kind of degree it was.\n",
       "\n",
       "Looking at dcv.pdf, it's also structured like bcv.pdf. It has the same sections and skills, even though the name seems different. The education part here is from Connor Hamilton University too, so that matches up. The skills are mostly similar but a bit more detailed—like Bhartipriya Foundation School for Social Media Analysis and Market Research. That sounds like good experience since it's practical and hands-on.\n",
       "\n",
       "dv.pdf has the same structure as well. It looks like it's from Wardier University in some country, probably Brazil or another Latin American country. The education section is from Wardier University with a 2025-2029 GPA range, which shows they were in a program for three years. That makes sense since 2025-2029 covers both the first and second degrees.\n",
       "\n",
       "ecv.pdf also has all four sections but it looks a bit different. The education is from Connor Hamilton University again, but I'm not sure how that stacks up against Wardier. The skills are similar too, like Bhartipriya Foundation School for Social Media Analysis and Market Research. It seems consistent with the other professional CVs.\n",
       "\n",
       "Now, thinking about which one is best. Since all four have similar sections and some overlap in education levels, it's hard to say definitively. But looking at the skills, bcv.pdf has a lot of detailed information, even if some of them are repeated. It might be too verbose for what other professionals might need on their CV.\n",
       "\n",
       "ecv.pdf is more concise with just the key points like Education and Skills without extra details that could clutter the CV. That makes it look cleaner and less busy. On the other hand, bcv.pdf has a lot of information about themselves, which could make it feel more comprehensive but also overwhelming for potential employers to sift through all that.\n",
       "\n",
       "So maybe ecv.pdf is better because it's more streamlined and professional without extra fluff. It emphasizes what's important—education and skills—the key points—and avoids repetition.\n",
       "</think>\n",
       "\n",
       "The best CV among the four provided is **ecv.pdf** due to its streamlined and professional structure, which emphasizes education and skills while avoiding unnecessary repetition. This approach makes it cleaner and less cluttered, making it more likely to stand out to potential employers."
      ],
      "text/plain": [
       "<IPython.core.display.Markdown object>"
      ]
     },
     "metadata": {},
     "output_type": "display_data"
    }
   ],
   "source": [
    "messages=[\n",
    "                {\"role\": \"system\", \"content\": system_content},\n",
    "                {\"role\": \"user\", \"content\": user_content}\n",
    "    ]\n",
    "response = ollama.chat(model=MODEL, messages=messages, stream=False)\n",
    "result = response['message']['content']\n",
    "display(Markdown(result))"
   ]
  },
  {
   "cell_type": "code",
   "execution_count": null,
   "id": "cf877169-9486-4705-98a4-f9b804dfdc3b",
   "metadata": {},
   "outputs": [],
   "source": []
  }
 ],
 "metadata": {
  "kernelspec": {
   "display_name": "Python [conda env:base] *",
   "language": "python",
   "name": "conda-base-py"
  },
  "language_info": {
   "codemirror_mode": {
    "name": "ipython",
    "version": 3
   },
   "file_extension": ".py",
   "mimetype": "text/x-python",
   "name": "python",
   "nbconvert_exporter": "python",
   "pygments_lexer": "ipython3",
   "version": "3.12.7"
  }
 },
 "nbformat": 4,
 "nbformat_minor": 5
}
